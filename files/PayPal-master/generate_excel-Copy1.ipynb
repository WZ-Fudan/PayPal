{
 "cells": [
  {
   "cell_type": "code",
   "execution_count": 244,
   "metadata": {},
   "outputs": [],
   "source": [
    "\"\"\"\n",
    "task: Generate comparison table \n",
    "author: Zheng Wei\n",
    "latest modification date: 2018/5/16\n",
    "\"\"\"\n",
    "\n",
    "import os  \n",
    "\n",
    "def get_file(file_dir, start_date, year, week_num, require='WEEKLY'):\n",
    "    \"\"\"\n",
    "    Return a list including closest week_num emails after start_date.2017-10\n",
    "    \"\"\"\n",
    "    temp_list = [files for root, dirs, files in os.walk(file_dir)][0]\n",
    "    file_list = [(file_name.split('_')[-1].split('.')[0], file_name) for file_name in temp_list \n",
    "                 if 'Tier1_monitoring' in file_name and 'xlsx' in file_name]\n",
    "    # Store \n",
    "    emails = []\n",
    "    if require == 'WEEKLY':\n",
    "        month, day = start_date.split('/')\n",
    "        if len(month) == 1:\n",
    "            month = '0' + month\n",
    "        if len(day) == 1:\n",
    "            day = '0' + day\n",
    "        start_date = int(str(year) + month + day) \n",
    "        for date, name in file_list:\n",
    "            try:\n",
    "                date = int(date)\n",
    "                if date > start_date:\n",
    "                    emails.append((calc_interval(str(date), str(start_date)), name))\n",
    "            except ValueError:\n",
    "                continue\n",
    "    elif require == 'MONTHLY':\n",
    "        year = int(start_date.split('-')[0])\n",
    "        month = int(start_date.split('-')[1])\n",
    "        for date, name in file_list:\n",
    "            try:\n",
    "                int(date)\n",
    "                year1 = int(date[:4])\n",
    "                month1 = int(date[4:6])\n",
    "                day1 = int(date[6:])\n",
    "                if year1 > year:\n",
    "                    if month1 == 1:\n",
    "                        emails.append(((12-month)*30 + day1, name))\n",
    "                    elif month1 == 2:\n",
    "                        emails.append(((12-month)*30 + 31 + day1, name))\n",
    "                    elif month1 == 3:\n",
    "                        emails.append(((12-month)*30 + 59 + day1, name)) \n",
    "                    else:\n",
    "                        emails.append((1e8, name))\n",
    "                elif year1 == year and month1 > month:\n",
    "                    emails.append(((month1-month-1)*30 + day1, name))\n",
    "                else:\n",
    "                    continue\n",
    "                if date > start_date:\n",
    "                    emails.append((calc_interval(str(date), str(start_date)), name))\n",
    "            except ValueError:\n",
    "                continue\n",
    "    else:\n",
    "        raise ValueError(\"no existence require(only 'WEEKLY' and MONTHLY)\")\n",
    "    return sorted(emails, key = lambda x:x[0])[:week_num]"
   ]
  },
  {
   "cell_type": "code",
   "execution_count": 236,
   "metadata": {
    "collapsed": true
   },
   "outputs": [
    {
     "name": "stdout",
     "output_type": "stream",
     "text": [
      "[(6, 'cam_monitor_report_20171106.xlsx'), (13, 'cam_monitor_report_20171113.xlsx'), (20, 'cam_monitor_report_20171120.xlsx'), (26, 'cam_monitor_report_20171126.xlsx'), (33, 'cam_monitor_report_20171203.xlsx'), (40, 'cam_monitor_report_20171210.xlsx'), (48, 'cam_monitor_report_20171218.xlsx'), (55, 'cam_monitor_report_20171225.xlsx'), (61, 'cam_monitor_report_20180101.xlsx'), (82, 'cam_monitor_report_20180122.xlsx'), (89, 'cam_monitor_report_20180129.xlsx'), (96, 'cam_monitor_report_20180205.xlsx'), (117, 'cam_monitor_report_20180226.xlsx')]\n"
     ]
    },
    {
     "data": {
      "text/plain": [
       "<function print>"
      ]
     },
     "execution_count": 236,
     "metadata": {},
     "output_type": "execute_result"
    }
   ],
   "source": [
    "path = 'C:/Users/zhewei/Desktop/cam_weekly_report/'\n",
    "top10_emails = get_file(path, '2017-10', year, columns+3, 'MONTHLY')\n",
    "print(top10_emails)\n"
   ]
  },
  {
   "cell_type": "code",
   "execution_count": 38,
   "metadata": {},
   "outputs": [],
   "source": [
    "def calc_interval(date1, date2, require):\n",
    "    \"\"\"\n",
    "    Calculate the interval between two date.\n",
    "    \"\"\"\n",
    "    interval = 0\n",
    "    year1, month1, day1 = date1[:4], date1[4:6], date1[6:]\n",
    "    year2, month2, day2 = date2[:4], date2[4:6], date2[6:]\n",
    "    if year1 != year2:\n",
    "        if month1 == '01':\n",
    "            interval = int(day1)\n",
    "            if month2 == '10':\n",
    "                interval += (31 + 30 + 31 - int(day2))\n",
    "            elif month2 == '11':\n",
    "                interval += (31 + 30 - int(day2))\n",
    "            elif month2 == '12':\n",
    "                interval += (31 - int(day2))\n",
    "            else:\n",
    "                return 1e8\n",
    "        elif month1 == '02':\n",
    "            interval = 31 + int(day1)\n",
    "            if month2 == '11':\n",
    "                interval += (31 + 30 - int(day2))\n",
    "            elif month2 == '12':\n",
    "                interval += (31 - int(day2))\n",
    "            else:\n",
    "                return 1e8\n",
    "        elif month1== '03':\n",
    "            interval = 31 + 28 + int(day1)\n",
    "            if month2 == '11':\n",
    "                interval += (31 + 30 - int(day2))\n",
    "            elif month2 == '12':\n",
    "                interval += (31 - int(day2))\n",
    "            else:\n",
    "                return 1e8\n",
    "        else:\n",
    "            return 1e8\n",
    "    else:\n",
    "        interval = (int(month1) - int(month2))*30 - int(day2) + int(day1)\n",
    "    return interval"
   ]
  },
  {
   "cell_type": "code",
   "execution_count": 233,
   "metadata": {
    "collapsed": true
   },
   "outputs": [
    {
     "name": "stdout",
     "output_type": "stream",
     "text": [
      "{'9/25': ['#', '#', '#', '#', '#', '#', '#', '#', '#', '#']}\n",
      "{'9/25': ['#', '87.3%', '89.2%', '89.5%', '87.0%', '86.1%', '86.8%', '86.8%', '86.9%', '86.9%'], '10/2': ['#', '#', '#', '#', '#', '#', '#', '#', '#', '#']}\n",
      "{'9/25': ['#', '87.3%', '89.2%', '89.5%', '87.0%', '86.1%', '86.8%', '86.8%', '86.9%', '86.9%'], '10/2': ['92.2%', '89.9%', '91.3%', '91.4%', '91.1%', '90.7%', '90.8%', '90.8%', '91.1%', '91.2%'], '10/9': ['#', '#', '#', '#', '#', '#', '#', '#', '#', '#']}\n",
      "{'9/25': ['#', '87.3%', '89.2%', '89.5%', '87.0%', '86.1%', '86.8%', '86.8%', '86.9%', '86.9%'], '10/2': ['92.2%', '89.9%', '91.3%', '91.4%', '91.1%', '90.7%', '90.8%', '90.8%', '91.1%', '91.2%'], '10/9': ['86.6%', '87.5%', '87.5%', '87.6%', '87.6%', '88.0%', '88.0%', '88.1%', '88.1%', '88.1%'], '10/16': ['#', '#', '#', '#', '#', '#', '#', '#', '#', '#']}\n",
      "{'9/25': ['#', '87.3%', '89.2%', '89.5%', '87.0%', '86.1%', '86.8%', '86.8%', '86.9%', '86.9%'], '10/2': ['92.2%', '89.9%', '91.3%', '91.4%', '91.1%', '90.7%', '90.8%', '90.8%', '91.1%', '91.2%'], '10/9': ['86.6%', '87.5%', '87.5%', '87.6%', '87.6%', '88.0%', '88.0%', '88.1%', '88.1%', '88.1%'], '10/16': ['83.0%', '86.6%', '86.0%', '84.3%', '84.2%', '84.1%', '84.5%', '84.4%', '84.4%', '84.4%'], '10/23': ['#', '#', '#', '#', '#', '#', '#', '#', '#', '#']}\n",
      "{'9/25': ['#', '87.3%', '89.2%', '89.5%', '87.0%', '86.1%', '86.8%', '86.8%', '86.9%', '86.9%'], '10/2': ['92.2%', '89.9%', '91.3%', '91.4%', '91.1%', '90.7%', '90.8%', '90.8%', '91.1%', '91.2%'], '10/9': ['86.6%', '87.5%', '87.5%', '87.6%', '87.6%', '88.0%', '88.0%', '88.1%', '88.1%', '88.1%'], '10/16': ['83.0%', '86.6%', '86.0%', '84.3%', '84.2%', '84.1%', '84.5%', '84.4%', '84.4%', '84.4%'], '10/23': ['89.8%', '88.4%', '88.7%', '89.2%', '89.2%', '89.0%', '88.8%', '89.4%', '89.5%', '89.6%'], '10/30': ['#', '#', '#', '#', '#', '#', '#', '#', '#', '#']}\n",
      "{'9/25': ['#', '87.3%', '89.2%', '89.5%', '87.0%', '86.1%', '86.8%', '86.8%', '86.9%', '86.9%'], '10/2': ['92.2%', '89.9%', '91.3%', '91.4%', '91.1%', '90.7%', '90.8%', '90.8%', '91.1%', '91.2%'], '10/9': ['86.6%', '87.5%', '87.5%', '87.6%', '87.6%', '88.0%', '88.0%', '88.1%', '88.1%', '88.1%'], '10/16': ['83.0%', '86.6%', '86.0%', '84.3%', '84.2%', '84.1%', '84.5%', '84.4%', '84.4%', '84.4%'], '10/23': ['89.8%', '88.4%', '88.7%', '89.2%', '89.2%', '89.0%', '88.8%', '89.4%', '89.5%', '89.6%'], '10/30': ['86.9%', '89.1%', '88.8%', '88.3%', '88.4%', '88.8%', '88.7%', '89.0%', '89.0%', '#'], '11/6': ['#', '#', '#', '#', '#', '#', '#', '#', '#', '#']}\n",
      "{'9/25': ['#', '87.3%', '89.2%', '89.5%', '87.0%', '86.1%', '86.8%', '86.8%', '86.9%', '86.9%'], '10/2': ['92.2%', '89.9%', '91.3%', '91.4%', '91.1%', '90.7%', '90.8%', '90.8%', '91.1%', '91.2%'], '10/9': ['86.6%', '87.5%', '87.5%', '87.6%', '87.6%', '88.0%', '88.0%', '88.1%', '88.1%', '88.1%'], '10/16': ['83.0%', '86.6%', '86.0%', '84.3%', '84.2%', '84.1%', '84.5%', '84.4%', '84.4%', '84.4%'], '10/23': ['89.8%', '88.4%', '88.7%', '89.2%', '89.2%', '89.0%', '88.8%', '89.4%', '89.5%', '89.6%'], '10/30': ['86.9%', '89.1%', '88.8%', '88.3%', '88.4%', '88.8%', '88.7%', '89.0%', '89.0%', '#'], '11/6': ['79.2%', '85.5%', '85.8%', '85.7%', '85.7%', '85.4%', '85.4%', '85.4%', '#', '#'], '11/13': ['#', '#', '#', '#', '#', '#', '#', '#', '#', '#']}\n",
      "{'9/25': ['#', '87.3%', '89.2%', '89.5%', '87.0%', '86.1%', '86.8%', '86.8%', '86.9%', '86.9%'], '10/2': ['92.2%', '89.9%', '91.3%', '91.4%', '91.1%', '90.7%', '90.8%', '90.8%', '91.1%', '91.2%'], '10/9': ['86.6%', '87.5%', '87.5%', '87.6%', '87.6%', '88.0%', '88.0%', '88.1%', '88.1%', '88.1%'], '10/16': ['83.0%', '86.6%', '86.0%', '84.3%', '84.2%', '84.1%', '84.5%', '84.4%', '84.4%', '84.4%'], '10/23': ['89.8%', '88.4%', '88.7%', '89.2%', '89.2%', '89.0%', '88.8%', '89.4%', '89.5%', '89.6%'], '10/30': ['86.9%', '89.1%', '88.8%', '88.3%', '88.4%', '88.8%', '88.7%', '89.0%', '89.0%', '#'], '11/6': ['79.2%', '85.5%', '85.8%', '85.7%', '85.7%', '85.4%', '85.4%', '85.4%', '#', '#'], '11/13': ['93.8%', '90.5%', '89.7%', '88.7%', '87.4%', '87.4%', '87.3%', '#', '#', '87.3%'], '11/20': ['#', '#', '#', '#', '#', '#', '#', '#', '#', '#']}\n",
      "{'9/25': ['#', '87.3%', '89.2%', '89.5%', '87.0%', '86.1%', '86.8%', '86.8%', '86.9%', '86.9%'], '10/2': ['92.2%', '89.9%', '91.3%', '91.4%', '91.1%', '90.7%', '90.8%', '90.8%', '91.1%', '91.2%'], '10/9': ['86.6%', '87.5%', '87.5%', '87.6%', '87.6%', '88.0%', '88.0%', '88.1%', '88.1%', '88.1%'], '10/16': ['83.0%', '86.6%', '86.0%', '84.3%', '84.2%', '84.1%', '84.5%', '84.4%', '84.4%', '84.4%'], '10/23': ['89.8%', '88.4%', '88.7%', '89.2%', '89.2%', '89.0%', '88.8%', '89.4%', '89.5%', '89.6%'], '10/30': ['86.9%', '89.1%', '88.8%', '88.3%', '88.4%', '88.8%', '88.7%', '89.0%', '89.0%', '#'], '11/6': ['79.2%', '85.5%', '85.8%', '85.7%', '85.7%', '85.4%', '85.4%', '85.4%', '#', '#'], '11/13': ['93.8%', '90.5%', '89.7%', '88.7%', '87.4%', '87.4%', '87.3%', '#', '#', '87.3%'], '11/20': ['83.5%', '74.1%', '75.4%', '75.4%', '73.7%', '73.6%', '#', '#', '74.0%', '74.0%'], '11/27': ['#', '#', '#', '#', '#', '#', '#', '#', '#', '#']}\n",
      "{'9/25': ['#', '87.3%', '89.2%', '89.5%', '87.0%', '86.1%', '86.8%', '86.8%', '86.9%', '86.9%'], '10/2': ['92.2%', '89.9%', '91.3%', '91.4%', '91.1%', '90.7%', '90.8%', '90.8%', '91.1%', '91.2%'], '10/9': ['86.6%', '87.5%', '87.5%', '87.6%', '87.6%', '88.0%', '88.0%', '88.1%', '88.1%', '88.1%'], '10/16': ['83.0%', '86.6%', '86.0%', '84.3%', '84.2%', '84.1%', '84.5%', '84.4%', '84.4%', '84.4%'], '10/23': ['89.8%', '88.4%', '88.7%', '89.2%', '89.2%', '89.0%', '88.8%', '89.4%', '89.5%', '89.6%'], '10/30': ['86.9%', '89.1%', '88.8%', '88.3%', '88.4%', '88.8%', '88.7%', '89.0%', '89.0%', '#'], '11/6': ['79.2%', '85.5%', '85.8%', '85.7%', '85.7%', '85.4%', '85.4%', '85.4%', '#', '#'], '11/13': ['93.8%', '90.5%', '89.7%', '88.7%', '87.4%', '87.4%', '87.3%', '#', '#', '87.3%'], '11/20': ['83.5%', '74.1%', '75.4%', '75.4%', '73.7%', '73.6%', '#', '#', '74.0%', '74.0%'], '11/27': ['84.3%', '84.5%', '83.9%', '84.0%', '84.1%', '#', '#', '84.3%', '84.1%', '84.3%'], '12/4': ['#', '#', '#', '#', '#', '#', '#', '#', '#', '#']}\n",
      "{'9/25': ['#', '87.3%', '89.2%', '89.5%', '87.0%', '86.1%', '86.8%', '86.8%', '86.9%', '86.9%'], '10/2': ['92.2%', '89.9%', '91.3%', '91.4%', '91.1%', '90.7%', '90.8%', '90.8%', '91.1%', '91.2%'], '10/9': ['86.6%', '87.5%', '87.5%', '87.6%', '87.6%', '88.0%', '88.0%', '88.1%', '88.1%', '88.1%'], '10/16': ['83.0%', '86.6%', '86.0%', '84.3%', '84.2%', '84.1%', '84.5%', '84.4%', '84.4%', '84.4%'], '10/23': ['89.8%', '88.4%', '88.7%', '89.2%', '89.2%', '89.0%', '88.8%', '89.4%', '89.5%', '89.6%'], '10/30': ['86.9%', '89.1%', '88.8%', '88.3%', '88.4%', '88.8%', '88.7%', '89.0%', '89.0%', '#'], '11/6': ['79.2%', '85.5%', '85.8%', '85.7%', '85.7%', '85.4%', '85.4%', '85.4%', '#', '#'], '11/13': ['93.8%', '90.5%', '89.7%', '88.7%', '87.4%', '87.4%', '87.3%', '#', '#', '87.3%'], '11/20': ['83.5%', '74.1%', '75.4%', '75.4%', '73.7%', '73.6%', '#', '#', '74.0%', '74.0%'], '11/27': ['84.3%', '84.5%', '83.9%', '84.0%', '84.1%', '#', '#', '84.3%', '84.1%', '84.3%'], '12/4': ['77.5%', '64.7%', '65.2%', '65.7%', '#', '#', '64.4%', '64.6%', '64.6%', '#'], '12/11': ['#', '#', '#', '#', '#', '#', '#', '#', '#', '#']}\n"
     ]
    }
   ],
   "source": [
    "\"\"\"---------------------------------Grap acceptable value from reports (WEEkLY) ------------------------------------\"\"\"\n",
    "\n",
    "import pandas as pd\n",
    "\n",
    "path = 'C:/Users/zhewei/Desktop/atom_weekly_report/'\n",
    "init_date = '9/25'\n",
    "year = 2017\n",
    "columns = 10\n",
    "rows = 12\n",
    "\n",
    "result = {init_date: ['#']*columns}\n",
    "while 1:\n",
    "    print(result)\n",
    "    temp_date = list(result.keys())[-1]\n",
    "    top_emails = get_file(path, temp_date, year, columns+3)\n",
    "    for interval, name in top_emails:\n",
    "        # Weekly, Seg2 Weekly\n",
    "        temp_data = pd.read_excel(path + name, sheet_name='Seg2 Weekly')\n",
    "        try:\n",
    "            if (interval-1)//7 < columns:\n",
    "                # CAM17_V2_EMS_SCORE, ATOM_2017_Score_2\n",
    "                temp_value = list(temp_data[temp_date])[list(temp_data['Week']).index('ATOM_2017_Score_2')]\n",
    "                if '.' in str(temp_value):\n",
    "                    result[temp_date][(interval - 1)//7] = \"%.1f%%\" % (temp_value * 100)\n",
    "            header = list(temp_data.columns)\n",
    "            next_date = header[header.index(temp_date)+1]\n",
    "            if isinstance(next_date, str) and '/' in next_date and next_date not in result:\n",
    "                if int(next_date.split('/')[0]) < int(temp_date.split('/')[0]):\n",
    "                    year += 1\n",
    "                result[next_date] = ['#']*columns\n",
    "        except KeyError:\n",
    "            continue\n",
    "    if len(result) > rows:\n",
    "        del result[next_date]\n",
    "        break"
   ]
  },
  {
   "cell_type": "code",
   "execution_count": 249,
   "metadata": {},
   "outputs": [
    {
     "name": "stdout",
     "output_type": "stream",
     "text": [
      "{'2017-10': ['#', '#', '#', '#', '#', '#', '#', '#', '#', '#']}\n",
      "{'2017-10': ['96.6%', '96.6%', '96.5%', '96.5%', '96.5%', '96.5%', '96.6%', '96.5%', '96.5%', '96.5%'], '2017-11': ['#', '#', '#', '#', '#', '#', '#', '#', '#', '#']}\n"
     ]
    }
   ],
   "source": [
    "\"\"\"---------------------------------Grap acceptable value from reports (MONTHLY) ------------------------------------\"\"\"\n",
    "\n",
    "import pandas as pd\n",
    "\n",
    "path = 'C:/Users/zhewei/Desktop/tier1_weekly_report/'\n",
    "init_date = '2017-10'\n",
    "year = 2017\n",
    "columns = 10\n",
    "rows = 2\n",
    "\n",
    "# Tier\n",
    "loc = [2, 10, 18]\n",
    "\n",
    "result = {init_date: ['#']*columns}\n",
    "while 1:\n",
    "    print(result)\n",
    "    temp_date = list(result.keys())[-1]\n",
    "    top_emails = get_file(path, temp_date, year, columns+3, 'MONTHLY')\n",
    "    for interval, name in top_emails:\n",
    "        temp_data = pd.read_excel(path + name, sheet_name='Summary')\n",
    "        try:\n",
    "            head_line = ['-'.join(str(item).split('-')[:2]) for item in list(a.iloc[0])]\n",
    "            # print(head_line, name)\n",
    "            if (interval-1)//7 < 10:\n",
    "                # Tier1\n",
    "                # head_line = ['-'.join(str(item).split('-')[:2]) for item in list(a.iloc[0])]\n",
    "                if temp_date in head_line:\n",
    "                    temp_value = list(temp_data.iloc[10])[head_line.index(temp_date)]\n",
    "                else:\n",
    "                    continue\n",
    "                # temp_value = list(temp_data[temp_date])[list(temp_data['Month']).index('ATOM_2017_Score_2')]\n",
    "                if '.' in str(temp_value):\n",
    "                    result[temp_date][(interval - 1)//7] = \"%.1f%%\" % (temp_value * 100)\n",
    "            # header = list(temp_data.columns)\n",
    "            next_date = header[header.index(temp_date)+1]\n",
    "            if isinstance(next_date, str) and '-' in next_date and next_date not in result:\n",
    "#                 if int(next_date.split('-')[0]) > int(temp_date.split('-')[0]):\n",
    "#                     year += 1\n",
    "                result[next_date] = ['#']*columns\n",
    "        except KeyError or IndexError:\n",
    "            continue\n",
    "    if len(result) > rows:\n",
    "        del result[next_date]\n",
    "        break"
   ]
  },
  {
   "cell_type": "code",
   "execution_count": null,
   "metadata": {},
   "outputs": [],
   "source": []
  },
  {
   "cell_type": "code",
   "execution_count": 250,
   "metadata": {},
   "outputs": [],
   "source": [
    "output = pd.DataFrame(result, index = ['1st week', '2nd week', '3rd week', '4th week', '5th week', \n",
    "                                       '6th week', '7th week', '8th week', '9th week','10th week'])"
   ]
  },
  {
   "cell_type": "code",
   "execution_count": 251,
   "metadata": {},
   "outputs": [
    {
     "data": {
      "text/html": [
       "<div>\n",
       "<style scoped>\n",
       "    .dataframe tbody tr th:only-of-type {\n",
       "        vertical-align: middle;\n",
       "    }\n",
       "\n",
       "    .dataframe tbody tr th {\n",
       "        vertical-align: top;\n",
       "    }\n",
       "\n",
       "    .dataframe thead th {\n",
       "        text-align: right;\n",
       "    }\n",
       "</style>\n",
       "<table border=\"1\" class=\"dataframe\">\n",
       "  <thead>\n",
       "    <tr style=\"text-align: right;\">\n",
       "      <th></th>\n",
       "      <th>1st week</th>\n",
       "      <th>2nd week</th>\n",
       "      <th>3rd week</th>\n",
       "      <th>4th week</th>\n",
       "      <th>5th week</th>\n",
       "      <th>6th week</th>\n",
       "      <th>7th week</th>\n",
       "      <th>8th week</th>\n",
       "      <th>9th week</th>\n",
       "      <th>10th week</th>\n",
       "    </tr>\n",
       "  </thead>\n",
       "  <tbody>\n",
       "    <tr>\n",
       "      <th>2017-10</th>\n",
       "      <td>96.6%</td>\n",
       "      <td>96.6%</td>\n",
       "      <td>96.5%</td>\n",
       "      <td>96.5%</td>\n",
       "      <td>96.5%</td>\n",
       "      <td>96.5%</td>\n",
       "      <td>96.6%</td>\n",
       "      <td>96.5%</td>\n",
       "      <td>96.5%</td>\n",
       "      <td>96.5%</td>\n",
       "    </tr>\n",
       "    <tr>\n",
       "      <th>2017-11</th>\n",
       "      <td>96.0%</td>\n",
       "      <td>96.0%</td>\n",
       "      <td>96.0%</td>\n",
       "      <td>96.0%</td>\n",
       "      <td>96.0%</td>\n",
       "      <td>96.0%</td>\n",
       "      <td>#</td>\n",
       "      <td>96.1%</td>\n",
       "      <td>96.2%</td>\n",
       "      <td>96.2%</td>\n",
       "    </tr>\n",
       "  </tbody>\n",
       "</table>\n",
       "</div>"
      ],
      "text/plain": [
       "        1st week 2nd week 3rd week 4th week 5th week 6th week 7th week  \\\n",
       "2017-10    96.6%    96.6%    96.5%    96.5%    96.5%    96.5%    96.6%   \n",
       "2017-11    96.0%    96.0%    96.0%    96.0%    96.0%    96.0%        #   \n",
       "\n",
       "        8th week 9th week 10th week  \n",
       "2017-10    96.5%    96.5%     96.5%  \n",
       "2017-11    96.1%    96.2%     96.2%  "
      ]
     },
     "execution_count": 251,
     "metadata": {},
     "output_type": "execute_result"
    }
   ],
   "source": [
    "output.T"
   ]
  },
  {
   "cell_type": "code",
   "execution_count": 252,
   "metadata": {},
   "outputs": [],
   "source": [
    "writer = pd.ExcelWriter(\"C:/Users/zhewei/Desktop/Task/ATO_month.xlsx\")\n",
    "#df1 = pd.DataFrame({'col1':[1,1], 'col2':[2,2]})\n",
    "output.T.to_excel(writer,'Monthly')\n",
    "writer.save()"
   ]
  },
  {
   "cell_type": "code",
   "execution_count": null,
   "metadata": {},
   "outputs": [],
   "source": []
  }
 ],
 "metadata": {
  "kernelspec": {
   "display_name": "Python 3",
   "language": "python",
   "name": "python3"
  },
  "language_info": {
   "codemirror_mode": {
    "name": "ipython",
    "version": 3
   },
   "file_extension": ".py",
   "mimetype": "text/x-python",
   "name": "python",
   "nbconvert_exporter": "python",
   "pygments_lexer": "ipython3",
   "version": "3.6.4"
  }
 },
 "nbformat": 4,
 "nbformat_minor": 2
}
